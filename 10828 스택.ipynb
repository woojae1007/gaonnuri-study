{
 "cells": [
  {
   "cell_type": "code",
   "execution_count": 29,
   "id": "f1ce3b49",
   "metadata": {},
   "outputs": [
    {
     "name": "stdout",
     "output_type": "stream",
     "text": [
      "7\n",
      "pop\n",
      "-1\n",
      "top\n",
      "-1\n",
      "push 123\n",
      "top\n",
      "123\n",
      "pop\n",
      "123\n",
      "top\n",
      "-1\n",
      "pop\n",
      "-1\n"
     ]
    }
   ],
   "source": [
    "n=int(input())\n",
    "L1=[]\n",
    "\n",
    "for i in range(n):\n",
    "    a= input().split()\n",
    "    if a[0]=='push':\n",
    "        L1.append(int(a[1]))\n",
    "    elif a[0]=='pop':\n",
    "        if len(L1)==0:\n",
    "            print(-1)\n",
    "        else:\n",
    "            print(L1.pop())\n",
    "    elif a[0]=='size':\n",
    "        print(len(L1))\n",
    "    elif a[0]=='empty':\n",
    "        if len(L1)==0:\n",
    "            print(1)\n",
    "        else:\n",
    "            print(0)\n",
    "    elif a[0]=='top':\n",
    "        if len(L1)==0:\n",
    "            print(-1)\n",
    "        else:\n",
    "            print(L1[-1])"
   ]
  }
 ],
 "metadata": {
  "kernelspec": {
   "display_name": "Python 3",
   "language": "python",
   "name": "python3"
  },
  "language_info": {
   "codemirror_mode": {
    "name": "ipython",
    "version": 3
   },
   "file_extension": ".py",
   "mimetype": "text/x-python",
   "name": "python",
   "nbconvert_exporter": "python",
   "pygments_lexer": "ipython3",
   "version": "3.8.8"
  }
 },
 "nbformat": 4,
 "nbformat_minor": 5
}
