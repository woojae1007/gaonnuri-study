{
 "cells": [
  {
   "cell_type": "code",
   "execution_count": 3,
   "id": "dc7241f9",
   "metadata": {},
   "outputs": [
    {
     "name": "stdout",
     "output_type": "stream",
     "text": [
      "3 1\n",
      "3 2 1\n",
      "3\n"
     ]
    }
   ],
   "source": [
    "n, l = map(int, input().split())\n",
    "s = list(map(int, input().split()))\n",
    "s.sort()\n",
    "start = s[0]\n",
    "end = s[0] + l\n",
    "cnt = 1\n",
    "for i in range(n):\n",
    "    if start <= s[i] < end:\n",
    "        continue\n",
    "    else:\n",
    "        start = s[i]\n",
    "        end = s[i] + l\n",
    "        cnt += 1\n",
    "print(cnt)"
   ]
  }
 ],
 "metadata": {
  "kernelspec": {
   "display_name": "Python 3",
   "language": "python",
   "name": "python3"
  },
  "language_info": {
   "codemirror_mode": {
    "name": "ipython",
    "version": 3
   },
   "file_extension": ".py",
   "mimetype": "text/x-python",
   "name": "python",
   "nbconvert_exporter": "python",
   "pygments_lexer": "ipython3",
   "version": "3.8.8"
  }
 },
 "nbformat": 4,
 "nbformat_minor": 5
}
