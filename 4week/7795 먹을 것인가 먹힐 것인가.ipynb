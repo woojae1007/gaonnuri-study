{
 "cells": [
  {
   "cell_type": "code",
   "execution_count": 1,
   "id": "d44cc2c2",
   "metadata": {},
   "outputs": [
    {
     "name": "stdout",
     "output_type": "stream",
     "text": [
      "2\n",
      "5 3\n",
      "8 1 7 3 1\n",
      "3 6 1\n",
      "7\n",
      "3 4\n",
      "2 13 7\n",
      "103 11 290 215\n",
      "1\n"
     ]
    }
   ],
   "source": [
    "import bisect   #이진탐색 알고리즘을 구현한 모듈\n",
    "\n",
    "for _ in range(int(input())):\n",
    "    N, M = map(int, input().split())\n",
    "    A = sorted(list(map(int, input().split())))\n",
    "    B = sorted(list(map(int, input().split())))\n",
    "    cnt = 0\n",
    "    for a in A:\n",
    "        cnt += (bisect.bisect(B, a-1))   #bisect.bisect 함수는 정렬된 리스트에 값을 삽입할 때 정렬을 유지할 수 있는 인덱스를 리턴\n",
    "    print(cnt)"
   ]
  }
 ],
 "metadata": {
  "kernelspec": {
   "display_name": "Python 3",
   "language": "python",
   "name": "python3"
  },
  "language_info": {
   "codemirror_mode": {
    "name": "ipython",
    "version": 3
   },
   "file_extension": ".py",
   "mimetype": "text/x-python",
   "name": "python",
   "nbconvert_exporter": "python",
   "pygments_lexer": "ipython3",
   "version": "3.8.8"
  }
 },
 "nbformat": 4,
 "nbformat_minor": 5
}
