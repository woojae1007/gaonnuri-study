{
 "cells": [
  {
   "cell_type": "code",
   "execution_count": 1,
   "id": "cb863a4f",
   "metadata": {},
   "outputs": [
    {
     "name": "stdout",
     "output_type": "stream",
     "text": [
      "2\n",
      "5\n",
      "3 2\n",
      "1 4\n",
      "4 1\n",
      "2 3\n",
      "5 5\n",
      "4\n",
      "7\n",
      "3 6\n",
      "7 3\n",
      "4 2\n",
      "1 4\n",
      "5 7\n",
      "2 5\n",
      "6 1\n",
      "3\n"
     ]
    }
   ],
   "source": [
    "t = int(input())\n",
    "for i in range(t):\n",
    "    n = int(input())\n",
    "    s = [0 for i in range(n + 1)]\n",
    "    for j in range(n):\n",
    "        a, b = map(int, input().split())\n",
    "        s[a] = b\n",
    "    min_n = s[1]\n",
    "    cnt = 0\n",
    "    for k in range(2, n + 1):\n",
    "        if s[k] > min_n:\n",
    "            cnt += 1\n",
    "        else:\n",
    "            min_n = s[k]        \n",
    "    print(n - cnt)"
   ]
  }
 ],
 "metadata": {
  "kernelspec": {
   "display_name": "Python 3",
   "language": "python",
   "name": "python3"
  },
  "language_info": {
   "codemirror_mode": {
    "name": "ipython",
    "version": 3
   },
   "file_extension": ".py",
   "mimetype": "text/x-python",
   "name": "python",
   "nbconvert_exporter": "python",
   "pygments_lexer": "ipython3",
   "version": "3.8.8"
  }
 },
 "nbformat": 4,
 "nbformat_minor": 5
}
