{
 "cells": [
  {
   "cell_type": "code",
   "execution_count": 24,
   "id": "6d5f8c45",
   "metadata": {},
   "outputs": [
    {
     "name": "stdout",
     "output_type": "stream",
     "text": [
      "1\n",
      "6 1\n",
      "2 2 6 2 6 2\n",
      "5\n"
     ]
    }
   ],
   "source": [
    "n=int(input())\n",
    "\n",
    "for i in range(n):\n",
    "    L1=[]\n",
    "    cnt=0\n",
    "    d=0\n",
    "    a,b = map(int, input().split())\n",
    "    c = input().split()\n",
    "    while a!=0:\n",
    "        L1.append([int(c[d]),d])\n",
    "        a-=1\n",
    "        d+=1\n",
    "    d=0\n",
    "    while True:\n",
    "        f=max(t[0] for t in L1)\n",
    "        if L1[d][0]==f:\n",
    "            if L1[d][1]==b:\n",
    "                cnt+=1\n",
    "                print(cnt)\n",
    "                break\n",
    "            else:\n",
    "                cnt+=1\n",
    "                del(L1[0])\n",
    "        else:\n",
    "            L1.append(L1[d])\n",
    "            del(L1[0])\n",
    "            "
   ]
  },
  {
   "cell_type": "code",
   "execution_count": null,
   "id": "616680d0",
   "metadata": {},
   "outputs": [],
   "source": []
  }
 ],
 "metadata": {
  "kernelspec": {
   "display_name": "Python 3",
   "language": "python",
   "name": "python3"
  },
  "language_info": {
   "codemirror_mode": {
    "name": "ipython",
    "version": 3
   },
   "file_extension": ".py",
   "mimetype": "text/x-python",
   "name": "python",
   "nbconvert_exporter": "python",
   "pygments_lexer": "ipython3",
   "version": "3.8.8"
  }
 },
 "nbformat": 4,
 "nbformat_minor": 5
}
