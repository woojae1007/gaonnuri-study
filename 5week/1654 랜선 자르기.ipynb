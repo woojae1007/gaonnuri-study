{
 "cells": [
  {
   "cell_type": "code",
   "execution_count": 1,
   "id": "357e96bd",
   "metadata": {},
   "outputs": [
    {
     "name": "stdout",
     "output_type": "stream",
     "text": [
      "4 11\n",
      "802\n",
      "743\n",
      "457\n",
      "539\n",
      "200\n"
     ]
    }
   ],
   "source": [
    "n, m= map(int, input().split())\n",
    "L1 = []\n",
    "\n",
    "for i in range(n):\n",
    "    L1.append(int(input()))\n",
    "\n",
    "start = 1\n",
    "end = max(L1)\n",
    "\n",
    "while (start <= end):\n",
    "    middle = (start + end) // 2\n",
    "    count = 0\n",
    "    for i in range(n):\n",
    "        count += L1[i] // middle\n",
    "    if count >= m:\n",
    "        start = middle + 1\n",
    "    else:\n",
    "        end = middle - 1\n",
    "print(end)"
   ]
  }
 ],
 "metadata": {
  "kernelspec": {
   "display_name": "Python 3",
   "language": "python",
   "name": "python3"
  },
  "language_info": {
   "codemirror_mode": {
    "name": "ipython",
    "version": 3
   },
   "file_extension": ".py",
   "mimetype": "text/x-python",
   "name": "python",
   "nbconvert_exporter": "python",
   "pygments_lexer": "ipython3",
   "version": "3.8.8"
  }
 },
 "nbformat": 4,
 "nbformat_minor": 5
}
