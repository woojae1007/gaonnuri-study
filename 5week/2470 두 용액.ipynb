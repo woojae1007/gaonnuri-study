{
 "cells": [
  {
   "cell_type": "code",
   "execution_count": 2,
   "id": "69c77220",
   "metadata": {},
   "outputs": [
    {
     "name": "stdout",
     "output_type": "stream",
     "text": [
      "5\n",
      "-2 4 -99 -1 98\n",
      "-99 98\n"
     ]
    }
   ],
   "source": [
    "n = int(input())\n",
    "L1 = sorted(list(map(int, input().split())))   #sorted(정려할 데이터) , reverse랑 key 등등 파라미터 있으니 필요하면 검색후 사용ㄱㄱ\n",
    "start = 0\n",
    "end = n-1\n",
    "L_zero = abs(L1[start]+L1[end])\n",
    "L_start = start\n",
    "L_end = end\n",
    "\n",
    "while start<end:\n",
    "    tmp = L1[start]+L1[end]\n",
    "    if abs(tmp) < czero:\n",
    "        L_start = start\n",
    "        L_end = end\n",
    "        L_zero = abs(tmp)\n",
    "        if L_zero == 0:\n",
    "            break\n",
    "    if tmp > 0:\n",
    "        end -= 1\n",
    "    else:\n",
    "        start += 1\n",
    "        \n",
    "print(L1[L_start], arr[L_end])"
   ]
  }
 ],
 "metadata": {
  "kernelspec": {
   "display_name": "Python 3",
   "language": "python",
   "name": "python3"
  },
  "language_info": {
   "codemirror_mode": {
    "name": "ipython",
    "version": 3
   },
   "file_extension": ".py",
   "mimetype": "text/x-python",
   "name": "python",
   "nbconvert_exporter": "python",
   "pygments_lexer": "ipython3",
   "version": "3.8.8"
  }
 },
 "nbformat": 4,
 "nbformat_minor": 5
}
