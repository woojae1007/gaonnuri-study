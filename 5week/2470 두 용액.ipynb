{
 "cells": [
  {
   "cell_type": "code",
   "execution_count": 2,
   "id": "69c77220",
   "metadata": {},
   "outputs": [
    {
     "name": "stdout",
     "output_type": "stream",
     "text": [
      "5\n",
      "-2 4 -99 -1 98\n",
      "-99 98\n"
     ]
    }
   ],
   "source": [
    "n = int(input())\n",
    "arr = sorted(list(map(int, input().split())))\n",
    "start = 0\n",
    "end = n-1\n",
    "czero = abs(arr[start]+arr[end])\n",
    "cstart = start\n",
    "cend = end\n",
    "\n",
    "while start<end:\n",
    "    tmp = arr[start]+arr[end]\n",
    "    if abs(tmp) < czero:\n",
    "        cstart = start\n",
    "        cend = end\n",
    "        czero = abs(tmp)\n",
    "        if czero == 0:\n",
    "            break\n",
    "    if tmp > 0:\n",
    "        end -= 1\n",
    "    else:\n",
    "        start += 1\n",
    "        \n",
    "print(arr[cstart], arr[cend])"
   ]
  }
 ],
 "metadata": {
  "kernelspec": {
   "display_name": "Python 3",
   "language": "python",
   "name": "python3"
  },
  "language_info": {
   "codemirror_mode": {
    "name": "ipython",
    "version": 3
   },
   "file_extension": ".py",
   "mimetype": "text/x-python",
   "name": "python",
   "nbconvert_exporter": "python",
   "pygments_lexer": "ipython3",
   "version": "3.8.8"
  }
 },
 "nbformat": 4,
 "nbformat_minor": 5
}
