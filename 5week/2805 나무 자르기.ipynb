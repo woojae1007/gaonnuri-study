{
 "cells": [
  {
   "cell_type": "code",
   "execution_count": 2,
   "id": "5503cd79",
   "metadata": {},
   "outputs": [
    {
     "name": "stdout",
     "output_type": "stream",
     "text": [
      "5 20\n",
      "4 42 40 26 46\n",
      "36\n"
     ]
    }
   ],
   "source": [
    "n, m = map(int, input().split())\n",
    "L1 = list(map(int, input().split()))\n",
    "start, end = 1, max(L1)\n",
    "\n",
    "while start <= end:\n",
    "    middle = (start+end) // 2\n",
    "    \n",
    "    tmp = 0 \n",
    "    for i in L1:\n",
    "        if i >= middle:\n",
    "            tmp += i - middle\n",
    "    if tmp >= m:\n",
    "        start = middle + 1\n",
    "    else:\n",
    "        end = middle - 1\n",
    "print(end)"
   ]
  }
 ],
 "metadata": {
  "kernelspec": {
   "display_name": "Python 3",
   "language": "python",
   "name": "python3"
  },
  "language_info": {
   "codemirror_mode": {
    "name": "ipython",
    "version": 3
   },
   "file_extension": ".py",
   "mimetype": "text/x-python",
   "name": "python",
   "nbconvert_exporter": "python",
   "pygments_lexer": "ipython3",
   "version": "3.8.8"
  }
 },
 "nbformat": 4,
 "nbformat_minor": 5
}
