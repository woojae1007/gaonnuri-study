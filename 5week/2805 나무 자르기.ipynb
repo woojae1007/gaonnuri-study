{
 "cells": [
  {
   "cell_type": "code",
   "execution_count": 3,
   "id": "5503cd79",
   "metadata": {},
   "outputs": [
    {
     "name": "stdout",
     "output_type": "stream",
     "text": [
      "5 20\n",
      "4 42 40 26 46\n",
      "36\n"
     ]
    }
   ],
   "source": [
    "N, M = map(int, input().split())\n",
    "tree = list(map(int, input().split()))\n",
    "start, end = 1, max(tree)\n",
    "\n",
    "while start <= end:\n",
    "    mid = (start+end) // 2\n",
    "    \n",
    "    log = 0 \n",
    "    for i in tree:\n",
    "        if i >= mid:\n",
    "            log += i - mid\n",
    "    if log >= M:\n",
    "        start = mid + 1\n",
    "    else:\n",
    "        end = mid - 1\n",
    "print(end)"
   ]
  }
 ],
 "metadata": {
  "kernelspec": {
   "display_name": "Python 3",
   "language": "python",
   "name": "python3"
  },
  "language_info": {
   "codemirror_mode": {
    "name": "ipython",
    "version": 3
   },
   "file_extension": ".py",
   "mimetype": "text/x-python",
   "name": "python",
   "nbconvert_exporter": "python",
   "pygments_lexer": "ipython3",
   "version": "3.8.8"
  }
 },
 "nbformat": 4,
 "nbformat_minor": 5
}
