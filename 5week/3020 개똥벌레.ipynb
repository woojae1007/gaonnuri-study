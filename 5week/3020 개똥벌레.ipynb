{
 "cells": [
  {
   "cell_type": "code",
   "execution_count": 2,
   "id": "986bdf58",
   "metadata": {},
   "outputs": [
    {
     "name": "stdout",
     "output_type": "stream",
     "text": [
      "14 5\n",
      "1\n",
      "3\n",
      "4\n",
      "2\n",
      "2\n",
      "4\n",
      "3\n",
      "4\n",
      "3\n",
      "3\n",
      "3\n",
      "2\n",
      "3\n",
      "3\n",
      "7 2\n"
     ]
    }
   ],
   "source": [
    "n, m = map(int, input().split())  #n,m값을 받고\n",
    "\n",
    "down = []    #아래로 갔을때 리스트\n",
    "up = []      #위로 갔을때 리스트\n",
    "for i in range(n):       #i를 2로 나눴을때 나머지 보고 위인지 아래인지 판단\n",
    "    if i % 2 == 0:\n",
    "        down.append(int(input()))\n",
    "    else:\n",
    "        up.append(int(input()))\n",
    "\n",
    "down.sort()            #다 하고 정렬\n",
    "up.sort()\n",
    "\n",
    "min_count = n          #최솟값을 위한 min_count\n",
    "range_count = 0        #구간의 수를 위한 range_count\n",
    "\n",
    "\n",
    "def binary_search(array, target, start, end):    #이진 탐색인데 구글링하면 나오는 거\n",
    "    while start <= end:\n",
    "        mid = (start + end) // 2\n",
    "\n",
    "        if array[mid] < target:\n",
    "            start = mid + 1\n",
    "        else:\n",
    "            end = mid - 1\n",
    "\n",
    "    return start\n",
    "\n",
    "\n",
    "for i in range(1, m + 1):\n",
    "    down_count = len(down) - binary_search(down, i - 0.5, 0, len(down) - 1)   #down_count는 down리스트 길이 - 이진탐색(down리스트, i-0.5로, 0 부터, down길이까지)-1 \n",
    "    top_count = len(up) - binary_search(up, m - i + 0.5, 0, len(up) - 1)      #위와 동일하지만 target값이 다름\n",
    "\n",
    "    if min_count == down_count + top_count:\n",
    "        range_count += 1\n",
    "    elif min_count > down_count + top_count:\n",
    "        range_count = 1\n",
    "        min_count = down_count + top_count\n",
    "\n",
    "print(min_count, range_count)"
   ]
  }
 ],
 "metadata": {
  "kernelspec": {
   "display_name": "Python 3",
   "language": "python",
   "name": "python3"
  },
  "language_info": {
   "codemirror_mode": {
    "name": "ipython",
    "version": 3
   },
   "file_extension": ".py",
   "mimetype": "text/x-python",
   "name": "python",
   "nbconvert_exporter": "python",
   "pygments_lexer": "ipython3",
   "version": "3.8.8"
  }
 },
 "nbformat": 4,
 "nbformat_minor": 5
}
