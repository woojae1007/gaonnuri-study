{
 "cells": [
  {
   "cell_type": "code",
   "execution_count": null,
   "id": "986bdf58",
   "metadata": {},
   "outputs": [],
   "source": [
    "n, h = map(int, input().split())\n",
    "\n",
    "down = []\n",
    "up = []\n",
    "for i in range(n):\n",
    "    if i % 2 == 0:\n",
    "        down.append(int(input()))\n",
    "    else:\n",
    "        up.append(int(input()))\n",
    "\n",
    "down.sort()\n",
    "up.sort()\n",
    "\n",
    "min_count = n\n",
    "range_count = 0\n",
    "\n",
    "\n",
    "def binary_search(array, target, start, end):\n",
    "    while start <= end:\n",
    "        mid = (start + end) // 2\n",
    "\n",
    "        if array[mid] < target:\n",
    "            start = mid + 1\n",
    "        else:\n",
    "            end = mid - 1\n",
    "\n",
    "    return start\n",
    "\n",
    "\n",
    "for i in range(1, h + 1):\n",
    "    down_count = len(down) - binary_search(down, i - 0.5, 0, len(down) - 1)\n",
    "    top_count = len(up) - binary_search(up, h - i + 0.5, 0, len(up) - 1)\n",
    "\n",
    "    if min_count == down_count + top_count:\n",
    "        range_count += 1\n",
    "    elif min_count > down_count + top_count:\n",
    "        range_count = 1\n",
    "        min_count = down_count + top_count\n",
    "\n",
    "print(min_count, range_count)"
   ]
  }
 ],
 "metadata": {
  "kernelspec": {
   "display_name": "Python 3",
   "language": "python",
   "name": "python3"
  },
  "language_info": {
   "codemirror_mode": {
    "name": "ipython",
    "version": 3
   },
   "file_extension": ".py",
   "mimetype": "text/x-python",
   "name": "python",
   "nbconvert_exporter": "python",
   "pygments_lexer": "ipython3",
   "version": "3.8.8"
  }
 },
 "nbformat": 4,
 "nbformat_minor": 5
}
