{
 "cells": [
  {
   "cell_type": "code",
   "execution_count": 2,
   "id": "71032a33",
   "metadata": {},
   "outputs": [
    {
     "name": "stdout",
     "output_type": "stream",
     "text": [
      "5\n",
      "70 80 30 40 100\n",
      "450\n",
      "100\n"
     ]
    }
   ],
   "source": [
    "n = int(input())\n",
    "s = list(map(int, input().split()))\n",
    "m = int(input())\n",
    "low, high = 0, max(s)\n",
    "while low <= high:\n",
    "    mid = (low + high) // 2\n",
    "    num = 0\n",
    "    for i in s:\n",
    "        if i >= mid: num += mid\n",
    "        else: num += i\n",
    "    if num <= m: low = mid + 1\n",
    "    else: high = mid - 1\n",
    "print(high)"
   ]
  }
 ],
 "metadata": {
  "kernelspec": {
   "display_name": "Python 3",
   "language": "python",
   "name": "python3"
  },
  "language_info": {
   "codemirror_mode": {
    "name": "ipython",
    "version": 3
   },
   "file_extension": ".py",
   "mimetype": "text/x-python",
   "name": "python",
   "nbconvert_exporter": "python",
   "pygments_lexer": "ipython3",
   "version": "3.8.8"
  }
 },
 "nbformat": 4,
 "nbformat_minor": 5
}
