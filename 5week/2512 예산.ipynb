{
 "cells": [
  {
   "cell_type": "code",
   "execution_count": 6,
   "id": "71032a33",
   "metadata": {},
   "outputs": [
    {
     "name": "stdout",
     "output_type": "stream",
     "text": [
      "5\n",
      "70 80 30 40 100\n",
      "450\n",
      "100\n"
     ]
    }
   ],
   "source": [
    "n=int(input())  #이거 해줘야 m에서 base10 오류가 안생김;; 이유는 모르겠네\n",
    "L1 = list(map(int, input().split()))\n",
    "m = int(input())\n",
    "low, high = 0, max(L1)\n",
    "while low <= high:\n",
    "    middle = (low + high) // 2\n",
    "    num = 0\n",
    "    for i in L1:\n",
    "        if i >= middle:\n",
    "            num += middle\n",
    "        else: \n",
    "            num += i\n",
    "    if num <= m: \n",
    "        low = middle + 1\n",
    "    else:\n",
    "        high = middle - 1\n",
    "print(high)"
   ]
  }
 ],
 "metadata": {
  "kernelspec": {
   "display_name": "Python 3",
   "language": "python",
   "name": "python3"
  },
  "language_info": {
   "codemirror_mode": {
    "name": "ipython",
    "version": 3
   },
   "file_extension": ".py",
   "mimetype": "text/x-python",
   "name": "python",
   "nbconvert_exporter": "python",
   "pygments_lexer": "ipython3",
   "version": "3.8.8"
  }
 },
 "nbformat": 4,
 "nbformat_minor": 5
}
