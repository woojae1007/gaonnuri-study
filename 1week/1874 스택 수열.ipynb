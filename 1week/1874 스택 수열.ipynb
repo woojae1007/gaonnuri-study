{
 "cells": [
  {
   "cell_type": "code",
   "execution_count": 12,
   "id": "2e2454ed",
   "metadata": {},
   "outputs": [
    {
     "name": "stdout",
     "output_type": "stream",
     "text": [
      "5\n",
      "1\n",
      "2\n",
      "5\n",
      "3\n",
      "NO\n"
     ]
    }
   ],
   "source": [
    "n=int(input())\n",
    "L1=[]\n",
    "L2=[]\n",
    "num1=1\n",
    "for i in range(n):\n",
    "    num=int(input())\n",
    "    while num1<=num:\n",
    "        L1.append(num1)\n",
    "        L2.append('+')\n",
    "        num1+=1\n",
    "    if num==L1[-1]:\n",
    "        L1.pop()\n",
    "        L2.append('-')\n",
    "    else:\n",
    "        print('NO')\n",
    "        break\n",
    "if len(L2)==n*2:\n",
    "    print(L2)"
   ]
  }
 ],
 "metadata": {
  "kernelspec": {
   "display_name": "Python 3",
   "language": "python",
   "name": "python3"
  },
  "language_info": {
   "codemirror_mode": {
    "name": "ipython",
    "version": 3
   },
   "file_extension": ".py",
   "mimetype": "text/x-python",
   "name": "python",
   "nbconvert_exporter": "python",
   "pygments_lexer": "ipython3",
   "version": "3.8.8"
  }
 },
 "nbformat": 4,
 "nbformat_minor": 5
}
