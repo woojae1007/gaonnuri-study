{
 "cells": [
  {
   "cell_type": "code",
   "execution_count": 15,
   "id": "2ff5d5cf",
   "metadata": {},
   "outputs": [
    {
     "name": "stdout",
     "output_type": "stream",
     "text": [
      "7\n",
      "1101000\n",
      "1111111\n",
      "3\n"
     ]
    }
   ],
   "source": [
    "N=int(input())\n",
    "L1=list(map(int,input().rstrip()))\n",
    "L2=list(map(int,input().rstrip()))\n",
    "count=0\n",
    "L1_1=copy.deepcopy(L1)\n",
    "\n",
    "def two_change(a,b):\n",
    "    L1[a]=1-L1[a]\n",
    "    L1[b]=1-L1[b]\n",
    "    \n",
    "def three_change(a,b,c):\n",
    "    L1[a]=1-L1[a]\n",
    "    L1[b]=1-L1[b]\n",
    "    L1[c]=1-L1[c]\n",
    "\n",
    "for i in range(N):\n",
    "    if L1[i]!=L2[i]:\n",
    "        if i==0:\n",
    "            two_change(i,i+1)\n",
    "            count+=1\n",
    "        elif i==N-1:\n",
    "            two_change(i,i-1)\n",
    "            count+=1\n",
    "        elif L1[i+1]!=L2[i+1]:\n",
    "            if L1[i-1]==L2[i-1]:\n",
    "                continue\n",
    "        elif L1[i-1]==L2[i-1]:\n",
    "            continue\n",
    "        else:\n",
    "            three_change(i-1,i,i+1)\n",
    "            count+=1\n",
    "    else:\n",
    "        if i==0:\n",
    "            if L1[i+1]!=L2[i+1]:\n",
    "                two_change(i,i+1)\n",
    "                count+=1\n",
    "        elif i==N-1:\n",
    "            break\n",
    "        elif L1[i-1]!=L2[i-1]:\n",
    "            three_change(i-1,i,i+1)\n",
    "            count+=1\n",
    "if L1!=L2:\n",
    "    L1=copy.deepcopy(L1_1)\n",
    "    L1[0]=change(0)\n",
    "    L1[1]=change(1)\n",
    "    count=1\n",
    "    for i in range(1,N):\n",
    "        if L1[i]!=L2[i]:\n",
    "            if i==N-1:\n",
    "                two_change(i,i-1)\n",
    "                count+=1\n",
    "            elif L1[i+1]!=L2[i+1]:\n",
    "                if L1[i-1]==L2[i-1]:\n",
    "                    continue\n",
    "                elif L1[i-1]==L2[i-1]:\n",
    "                    continue\n",
    "                else:\n",
    "                    three_change(i-1,i,i+1)\n",
    "                    count+=1\n",
    "            else:\n",
    "                if L1[i-1]!=L2[i-1]:\n",
    "                    three_change(i-1,i,i+1)\n",
    "                    count+=1\n",
    "                else:\n",
    "                    continue\n",
    "\n",
    "if L1==L2:\n",
    "    print(count)\n",
    "else:\n",
    "    print(-1)"
   ]
  }
 ],
 "metadata": {
  "kernelspec": {
   "display_name": "Python 3",
   "language": "python",
   "name": "python3"
  },
  "language_info": {
   "codemirror_mode": {
    "name": "ipython",
    "version": 3
   },
   "file_extension": ".py",
   "mimetype": "text/x-python",
   "name": "python",
   "nbconvert_exporter": "python",
   "pygments_lexer": "ipython3",
   "version": "3.8.8"
  }
 },
 "nbformat": 4,
 "nbformat_minor": 5
}
