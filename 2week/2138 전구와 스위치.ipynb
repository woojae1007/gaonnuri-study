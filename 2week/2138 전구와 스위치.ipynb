{
 "cells": [
  {
   "cell_type": "code",
   "execution_count": 1,
   "id": "a96b6383",
   "metadata": {},
   "outputs": [
    {
     "name": "stdout",
     "output_type": "stream",
     "text": [
      "7\n",
      "1101000\n",
      "1111111\n",
      "-1\n"
     ]
    }
   ],
   "source": [
    "N=int(input())\n",
    "L1=list(map(int,input().rstrip()))\n",
    "L2=list(map(int,input().rstrip()))\n",
    "count=0\n",
    "\n",
    "def change(a):\n",
    "    if a==1:\n",
    "        a=0\n",
    "    else:\n",
    "        a=1\n",
    "    return a\n",
    "\n",
    "for i in range(N):\n",
    "    \n",
    "\n",
    "if L1==L2:\n",
    "    print(count)\n",
    "else:\n",
    "    print(-1)"
   ]
  }
 ],
 "metadata": {
  "kernelspec": {
   "display_name": "Python 3",
   "language": "python",
   "name": "python3"
  },
  "language_info": {
   "codemirror_mode": {
    "name": "ipython",
    "version": 3
   },
   "file_extension": ".py",
   "mimetype": "text/x-python",
   "name": "python",
   "nbconvert_exporter": "python",
   "pygments_lexer": "ipython3",
   "version": "3.8.8"
  }
 },
 "nbformat": 4,
 "nbformat_minor": 5
}
