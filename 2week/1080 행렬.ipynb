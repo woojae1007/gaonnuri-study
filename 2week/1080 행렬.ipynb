{
 "cells": [
  {
   "cell_type": "code",
   "execution_count": 21,
   "id": "7718caeb",
   "metadata": {},
   "outputs": [
    {
     "name": "stdout",
     "output_type": "stream",
     "text": [
      "18 3\n",
      "001\n",
      "100\n",
      "100\n",
      "000\n",
      "011\n",
      "010\n",
      "100\n",
      "100\n",
      "010\n",
      "010\n",
      "010\n",
      "110\n",
      "101\n",
      "101\n",
      "000\n",
      "110\n",
      "000\n",
      "110\n",
      "001\n",
      "100\n",
      "011\n",
      "000\n",
      "100\n",
      "010\n",
      "011\n",
      "100\n",
      "101\n",
      "101\n",
      "010\n",
      "001\n",
      "010\n",
      "010\n",
      "111\n",
      "110\n",
      "111\n",
      "001\n",
      "7\n"
     ]
    }
   ],
   "source": [
    "N,M = map(int,input().split())\n",
    "LA=[list(map(int, input().rstrip())) for i in range(N)]\n",
    "LB=[list(map(int, input().rstrip())) for i in range(N)]\n",
    "\n",
    "def change(a,b):\n",
    "    for i in range(a,a+3):\n",
    "        for j in range(b,b+3):\n",
    "            if LA[i][j]==0:\n",
    "                LA[i][j]=1\n",
    "            else:\n",
    "                LA[i][j]=0\n",
    "count=0              \n",
    "for i in range(N-2):\n",
    "    for j in range(M-2):\n",
    "        if LA[i][j]!=LB[i][j]:\n",
    "            change(i,j)\n",
    "            count+=1\n",
    "        elif LA==LB:\n",
    "            break\n",
    "    if LA==LB:\n",
    "        break\n",
    "\n",
    "if LA!=LB:\n",
    "    print(-1)\n",
    "else:\n",
    "    print(count)"
   ]
  },
  {
   "cell_type": "code",
   "execution_count": null,
   "id": "b840905b",
   "metadata": {},
   "outputs": [],
   "source": []
  }
 ],
 "metadata": {
  "kernelspec": {
   "display_name": "Python 3",
   "language": "python",
   "name": "python3"
  },
  "language_info": {
   "codemirror_mode": {
    "name": "ipython",
    "version": 3
   },
   "file_extension": ".py",
   "mimetype": "text/x-python",
   "name": "python",
   "nbconvert_exporter": "python",
   "pygments_lexer": "ipython3",
   "version": "3.8.8"
  }
 },
 "nbformat": 4,
 "nbformat_minor": 5
}
