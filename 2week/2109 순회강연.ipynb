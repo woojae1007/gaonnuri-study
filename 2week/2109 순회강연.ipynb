{
 "cells": [
  {
   "cell_type": "code",
   "execution_count": 3,
   "id": "d7d1faff",
   "metadata": {},
   "outputs": [
    {
     "name": "stdout",
     "output_type": "stream",
     "text": [
      "7\n",
      "20 1\n",
      "2 1\n",
      "10 3\n",
      "100 2\n",
      "8 2\n",
      "5 20\n",
      "50 10\n",
      "185\n"
     ]
    }
   ],
   "source": [
    "import heapq\n",
    "\n",
    "n=int(input())\n",
    "L1=[]\n",
    "L2=[]\n",
    "\n",
    "for i in range(n):\n",
    "    p,d = map(int, input().split())\n",
    "    L1.append([p,d])\n",
    "L1.sort(key=lambda x:x[1])\n",
    "\n",
    "for i in L1:\n",
    "    heapq.heappush(L2, i[0])\n",
    "    if len(L2)>i[1]:\n",
    "        heapq.heappop(L2)\n",
    "print(sum(L2))"
   ]
  }
 ],
 "metadata": {
  "kernelspec": {
   "display_name": "Python 3",
   "language": "python",
   "name": "python3"
  },
  "language_info": {
   "codemirror_mode": {
    "name": "ipython",
    "version": 3
   },
   "file_extension": ".py",
   "mimetype": "text/x-python",
   "name": "python",
   "nbconvert_exporter": "python",
   "pygments_lexer": "ipython3",
   "version": "3.8.8"
  }
 },
 "nbformat": 4,
 "nbformat_minor": 5
}
