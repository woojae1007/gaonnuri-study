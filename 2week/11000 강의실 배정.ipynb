{
 "cells": [
  {
   "cell_type": "code",
   "execution_count": 1,
   "id": "534633d7",
   "metadata": {},
   "outputs": [
    {
     "name": "stdout",
     "output_type": "stream",
     "text": [
      "3\n",
      "1 3\n",
      "2 4\n",
      "3 5\n",
      "2\n"
     ]
    }
   ],
   "source": [
    "import heapq\n",
    "# 주피터에서는 실행이 안되는 함수들임\n",
    "# import sys\n",
    "# input = sys.stdin.readline\n",
    "\n",
    "N=int(input())\n",
    "L1=[]\n",
    "L2=[]\n",
    "\n",
    "for i in range(N):\n",
    "    start, end = map(int, input().split())\n",
    "    L1.append([start,end])\n",
    "L1.sort(key=lambda x:x[0])\n",
    "\n",
    "heapq.heappush(L2, L1[0][1])\n",
    "for i in range(1, N):\n",
    "    if L1[i][0]>=L2[0]:\n",
    "        heapq.heappop(L2)\n",
    "        heapq.heappush(L2,L1[i][1])\n",
    "    else:\n",
    "        heapq.heappush(L2, L1[i][1])\n",
    "\n",
    "print(len(L2))"
   ]
  }
 ],
 "metadata": {
  "kernelspec": {
   "display_name": "Python 3",
   "language": "python",
   "name": "python3"
  },
  "language_info": {
   "codemirror_mode": {
    "name": "ipython",
    "version": 3
   },
   "file_extension": ".py",
   "mimetype": "text/x-python",
   "name": "python",
   "nbconvert_exporter": "python",
   "pygments_lexer": "ipython3",
   "version": "3.8.8"
  }
 },
 "nbformat": 4,
 "nbformat_minor": 5
}
