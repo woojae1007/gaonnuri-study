{
 "cells": [
  {
   "cell_type": "code",
   "execution_count": 3,
   "id": "a138bc7e",
   "metadata": {},
   "outputs": [
    {
     "name": "stdout",
     "output_type": "stream",
     "text": [
      "11\n",
      "1 4\n",
      "3 5\n",
      "0 6\n",
      "5 7\n",
      "3 8\n",
      "5 9\n",
      "6 10\n",
      "8 11\n",
      "8 12\n",
      "2 13\n",
      "12 14\n",
      "4\n"
     ]
    }
   ],
   "source": [
    "N=int(input())\n",
    "L1=[]\n",
    "\n",
    "for i in range(N):\n",
    "    m,k = map(int, input().split())\n",
    "    L1.append([m,k])\n",
    "L1.sort(key=lambda x:x[0])\n",
    "L1.sort(key=lambda x:x[1])\n",
    "end = 0\n",
    "count = 0\n",
    "for i,j in L1:\n",
    "    if i>=end:\n",
    "        count+=1\n",
    "        end = j\n",
    "print(count)"
   ]
  }
 ],
 "metadata": {
  "kernelspec": {
   "display_name": "Python 3",
   "language": "python",
   "name": "python3"
  },
  "language_info": {
   "codemirror_mode": {
    "name": "ipython",
    "version": 3
   },
   "file_extension": ".py",
   "mimetype": "text/x-python",
   "name": "python",
   "nbconvert_exporter": "python",
   "pygments_lexer": "ipython3",
   "version": "3.8.8"
  }
 },
 "nbformat": 4,
 "nbformat_minor": 5
}
