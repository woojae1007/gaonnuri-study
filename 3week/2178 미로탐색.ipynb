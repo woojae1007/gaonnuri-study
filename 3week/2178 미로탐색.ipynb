{
 "cells": [
  {
   "cell_type": "code",
   "execution_count": 6,
   "id": "76586bee",
   "metadata": {},
   "outputs": [
    {
     "name": "stdout",
     "output_type": "stream",
     "text": [
      "4 6\n",
      "101111\n",
      "101010\n",
      "101011\n",
      "111011\n",
      "15\n"
     ]
    }
   ],
   "source": [
    "n, m = map(int, input().split())\n",
    "L1 = []\n",
    "L2 = []\n",
    "dx = [1, -1, 0, 0]\n",
    "dy = [0, 0, -1, 1]\n",
    "for i in range(n):\n",
    "    L1.append(list(input()))\n",
    "L2 = [[0, 0]]\n",
    "L1[0][0] = 1\n",
    "while L2:\n",
    "    a, b = L2[0][0], L2[0][1]\n",
    "    del L2[0]\n",
    "    for i in range(4):\n",
    "        x = a + dx[i]\n",
    "        y = b + dy[i]\n",
    "        if 0 <= x < n and 0 <= y < m and L1[x][y] == \"1\":\n",
    "            L2.append([x, y])\n",
    "            L1[x][y] = L1[a][b] + 1\n",
    "print(L1[n - 1][m - 1])"
   ]
  }
 ],
 "metadata": {
  "kernelspec": {
   "display_name": "Python 3",
   "language": "python",
   "name": "python3"
  },
  "language_info": {
   "codemirror_mode": {
    "name": "ipython",
    "version": 3
   },
   "file_extension": ".py",
   "mimetype": "text/x-python",
   "name": "python",
   "nbconvert_exporter": "python",
   "pygments_lexer": "ipython3",
   "version": "3.8.8"
  }
 },
 "nbformat": 4,
 "nbformat_minor": 5
}
