{
 "cells": [
  {
   "cell_type": "code",
   "execution_count": 2,
   "id": "e1691e66",
   "metadata": {},
   "outputs": [
    {
     "name": "stdout",
     "output_type": "stream",
     "text": [
      "4 6\n",
      "0 0 0 0 0 0\n",
      "1 0 0 0 0 2\n",
      "1 1 1 0 0 2\n",
      "0 0 0 0 0 2\n",
      "9\n"
     ]
    }
   ],
   "source": [
    "s = []\n",
    "dx = [0, 0, -1, 1]\n",
    "dy = [-1, 1, 0, 0]\n",
    "max_result = 0\n",
    "def bfs():\n",
    "    global max_result\n",
    "    copy = [[0] * m for i in range(n)]\n",
    "    for i in range(n):\n",
    "        for j in range(m):\n",
    "            copy[i][j] = s[i][j]\n",
    "    result = 0\n",
    "    arr = []\n",
    "    for i in range(n):\n",
    "        for j in range(m):\n",
    "            if copy[i][j] == 2:\n",
    "                arr.append([i, j])\n",
    "    while arr:\n",
    "        a, b = arr[0][0], arr[0][1]\n",
    "        del arr[0]\n",
    "        for i in range(4):\n",
    "            ax = a + dx[i]\n",
    "            ay = b + dy[i]\n",
    "            if 0 <= ax and 0 <= ay and ax < n and ay < m:\n",
    "                if copy[ax][ay] == 0:\n",
    "                    copy[ax][ay] = 2\n",
    "                    arr.append([ax, ay])\n",
    "    for i in copy:\n",
    "        for j in i:\n",
    "            if j == 0:\n",
    "                result += 1\n",
    "    max_result = max(max_result, result)\n",
    "def wall(cnt):\n",
    "    if cnt == 3:\n",
    "        bfs()\n",
    "        return\n",
    "    for i in range(n):\n",
    "        for j in range(m):\n",
    "            if s[i][j] == 0:\n",
    "                s[i][j] = 1\n",
    "                wall(cnt + 1)\n",
    "                s[i][j] = 0\n",
    "n, m = map(int, input().split())\n",
    "for i in range(n):\n",
    "    s.append(list(map(int, input().split())))\n",
    "wall(0)\n",
    "print(max_result)"
   ]
  }
 ],
 "metadata": {
  "kernelspec": {
   "display_name": "Python 3",
   "language": "python",
   "name": "python3"
  },
  "language_info": {
   "codemirror_mode": {
    "name": "ipython",
    "version": 3
   },
   "file_extension": ".py",
   "mimetype": "text/x-python",
   "name": "python",
   "nbconvert_exporter": "python",
   "pygments_lexer": "ipython3",
   "version": "3.8.8"
  }
 },
 "nbformat": 4,
 "nbformat_minor": 5
}
