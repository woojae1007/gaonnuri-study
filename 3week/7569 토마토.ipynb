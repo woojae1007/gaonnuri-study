{
 "cells": [
  {
   "cell_type": "code",
   "execution_count": 2,
   "id": "99d79bb6",
   "metadata": {},
   "outputs": [
    {
     "name": "stdout",
     "output_type": "stream",
     "text": [
      "5 3 2\n",
      "0 0 0 0 0\n",
      "0 0 0 0 0\n",
      "0 0 0 0 0\n",
      "0 0 0 0 0\n",
      "0 0 1 0 0\n",
      "0 0 0 0 0\n",
      "4\n"
     ]
    }
   ],
   "source": [
    "from collections import deque\n",
    "dx = [1, -1, 0, 0, 0, 0]\n",
    "dy = [0, 0, -1, 1, 0, 0]\n",
    "dz = [0, 0, 0, 0, -1, 1]\n",
    "def bfs():\n",
    "    while q:\n",
    "        a, b, c = q.popleft()\n",
    "        visit[c][a][b] = 1\n",
    "        for i in range(6):\n",
    "            x = a + dx[i]\n",
    "            y = b + dy[i]\n",
    "            z = c + dz[i]\n",
    "            if 0 <= x < n and 0 <= y < m and 0 <= z < h and s[z][x][y] == 0 and visit[z][x][y] == 0:\n",
    "                q.append([x, y, z])\n",
    "                s[z][x][y] = s[c][a][b] + 1\n",
    "                visit[z][x][y] = 1\n",
    "m, n, h = map(int, input().split())\n",
    "s = [[] for i in range(h)]\n",
    "visit = [[[0 for i in range(m)] for i in range(n)] for i in range(h)]\n",
    "q = deque()\n",
    "isTrue = False\n",
    "st = False\n",
    "for i in range(h):\n",
    "    for j in range(n):\n",
    "        s[i].append(list(map(int, input().split())))\n",
    "for z in range(h):\n",
    "    for x in range(n):\n",
    "        for y in range(m):\n",
    "            if s[z][x][y] == 1:\n",
    "                q.append([x, y, z])\n",
    "bfs()\n",
    "max_num = 0\n",
    "for z in range(h):\n",
    "    for x in range(n):\n",
    "        for y in range(m):\n",
    "            if s[z][x][y] == 0:\n",
    "                isTrue = True\n",
    "            max_num = max(max_num, s[z][x][y])\n",
    "if isTrue == True:\n",
    "    print(-1)\n",
    "else:\n",
    "    print(max_num - 1)"
   ]
  }
 ],
 "metadata": {
  "kernelspec": {
   "display_name": "Python 3",
   "language": "python",
   "name": "python3"
  },
  "language_info": {
   "codemirror_mode": {
    "name": "ipython",
    "version": 3
   },
   "file_extension": ".py",
   "mimetype": "text/x-python",
   "name": "python",
   "nbconvert_exporter": "python",
   "pygments_lexer": "ipython3",
   "version": "3.8.8"
  }
 },
 "nbformat": 4,
 "nbformat_minor": 5
}
