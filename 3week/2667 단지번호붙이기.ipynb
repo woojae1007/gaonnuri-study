{
 "cells": [
  {
   "cell_type": "code",
   "execution_count": 2,
   "id": "7a45ce80",
   "metadata": {},
   "outputs": [
    {
     "name": "stdout",
     "output_type": "stream",
     "text": [
      "7\n",
      "0110100\n",
      "0110101\n",
      "1110101\n",
      "0000111\n",
      "0100000\n",
      "0111110\n",
      "0111000\n",
      "3\n",
      "7\n",
      "8\n",
      "9\n"
     ]
    }
   ],
   "source": [
    "n = int(input())\n",
    "L1 = []\n",
    "dx = [1, -1, 0, 0]\n",
    "dy = [0, 0, -1, 1]\n",
    "count_L = []\n",
    "for i in range(n):\n",
    "    L1.append(list(input()))\n",
    "def bfs(i, j):\n",
    "    L2 = [[i, j]]\n",
    "    L1[i][j] = \"0\"\n",
    "    count = 1\n",
    "    while L2:\n",
    "        a, b = L2[0][0], L2[0][1]\n",
    "        del L2[0]\n",
    "        for k in range(4):\n",
    "            x = a + dx[k]\n",
    "            y = b + dy[k]\n",
    "            if 0 <= x < n and 0 <= y < n and L1[x][y] == \"1\":\n",
    "                L1[x][y] = \"0\"\n",
    "                L2.append([x, y])\n",
    "                count += 1\n",
    "    count_L.append(count)\n",
    "for i in range(n):\n",
    "    for j in range(n):\n",
    "        if L1[i][j] == \"1\":\n",
    "            bfs(i, j)\n",
    "count_L.sort()\n",
    "print(len(count_L))\n",
    "for i in count_L:\n",
    "    print(i)"
   ]
  }
 ],
 "metadata": {
  "kernelspec": {
   "display_name": "Python 3",
   "language": "python",
   "name": "python3"
  },
  "language_info": {
   "codemirror_mode": {
    "name": "ipython",
    "version": 3
   },
   "file_extension": ".py",
   "mimetype": "text/x-python",
   "name": "python",
   "nbconvert_exporter": "python",
   "pygments_lexer": "ipython3",
   "version": "3.8.8"
  }
 },
 "nbformat": 4,
 "nbformat_minor": 5
}
