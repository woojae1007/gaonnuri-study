{
 "cells": [
  {
   "cell_type": "code",
   "execution_count": 2,
   "id": "2b9c8e82",
   "metadata": {},
   "outputs": [
    {
     "name": "stdout",
     "output_type": "stream",
     "text": [
      "3\n",
      "3 4 5\n",
      "1 0 1 0\n",
      "35\n",
      "17\n"
     ]
    }
   ],
   "source": [
    "def dfs(cnt, result, p, m, mul, div):\n",
    "    global max_result\n",
    "    global min_result\n",
    "    if cnt == n:\n",
    "        max_result = max(max_result, result)\n",
    "        min_result = min(min_result, result)\n",
    "        return\n",
    "    if p:\n",
    "        dfs(cnt + 1, result + s[cnt], p - 1, m, mul, div)\n",
    "    if m:\n",
    "        dfs(cnt + 1, result - s[cnt], p, m - 1, mul, div)\n",
    "    if mul:\n",
    "        dfs(cnt + 1, result * s[cnt], p, m, mul - 1, div)\n",
    "    if div:\n",
    "        dfs(cnt + 1, -(-result // s[cnt]) if result < 0 else result // s[cnt], p, m, mul, div - 1)\n",
    "n = int(input())\n",
    "s = list(map(int, input().split()))\n",
    "op = list(map(int, input().split()))\n",
    "max_result = -1000000001\n",
    "min_result = 1000000001\n",
    "dfs(1, s[0], op[0], op[1], op[2], op[3])\n",
    "print(max_result)\n",
    "print(min_result)"
   ]
  }
 ],
 "metadata": {
  "kernelspec": {
   "display_name": "Python 3",
   "language": "python",
   "name": "python3"
  },
  "language_info": {
   "codemirror_mode": {
    "name": "ipython",
    "version": 3
   },
   "file_extension": ".py",
   "mimetype": "text/x-python",
   "name": "python",
   "nbconvert_exporter": "python",
   "pygments_lexer": "ipython3",
   "version": "3.8.8"
  }
 },
 "nbformat": 4,
 "nbformat_minor": 5
}
