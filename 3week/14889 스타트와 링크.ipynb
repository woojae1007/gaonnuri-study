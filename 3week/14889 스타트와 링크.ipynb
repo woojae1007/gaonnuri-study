{
 "cells": [
  {
   "cell_type": "code",
   "execution_count": 2,
   "id": "9ae3926d",
   "metadata": {},
   "outputs": [
    {
     "name": "stdout",
     "output_type": "stream",
     "text": [
      "8\n",
      "0 5 4 5 4 5 4 5\n",
      "4 0 5 1 2 3 4 5\n",
      "9 8 0 1 2 3 1 2\n",
      "9 9 9 0 9 9 9 9\n",
      "1 1 1 1 0 1 1 1\n",
      "8 7 6 5 4 0 3 2\n",
      "9 1 9 1 9 1 0 9\n",
      "6 5 4 3 2 1 9 0\n",
      "1\n"
     ]
    }
   ],
   "source": [
    "from copy import deepcopy\n",
    "def dif(temp1):\n",
    "    global result\n",
    "    temp2 = []\n",
    "    for i in range(n):\n",
    "        if i in temp1:\n",
    "            continue\n",
    "        temp2.append(i)\n",
    "    temp1_n = 0\n",
    "    temp2_n = 0\n",
    "    for i in range((n // 2) - 1):\n",
    "        for j in range(i + 1, n // 2):\n",
    "            a, b = temp1[i], temp1[j]\n",
    "            c, d = temp2[i], temp2[j]\n",
    "            temp1_n += s[a][b] + s[b][a]\n",
    "            temp2_n += s[c][d] + s[d][c]\n",
    "    result = min(result, abs(temp1_n - temp2_n))\n",
    "def dfs(temp):\n",
    "    t = deepcopy(temp)\n",
    "    if len(t) == n // 2:\n",
    "        dif(t)\n",
    "        return\n",
    "    for i in range(t[-1] + 1, n):\n",
    "        t.append(i)\n",
    "        dfs(t)\n",
    "        t.pop()\n",
    "n = int(input())\n",
    "s = []\n",
    "for i in range(n):\n",
    "    s.append(list(map(int, input().split())))\n",
    "result = 1000000000\n",
    "temp = [0]\n",
    "dfs(temp)\n",
    "print(result)"
   ]
  }
 ],
 "metadata": {
  "kernelspec": {
   "display_name": "Python 3",
   "language": "python",
   "name": "python3"
  },
  "language_info": {
   "codemirror_mode": {
    "name": "ipython",
    "version": 3
   },
   "file_extension": ".py",
   "mimetype": "text/x-python",
   "name": "python",
   "nbconvert_exporter": "python",
   "pygments_lexer": "ipython3",
   "version": "3.8.8"
  }
 },
 "nbformat": 4,
 "nbformat_minor": 5
}
