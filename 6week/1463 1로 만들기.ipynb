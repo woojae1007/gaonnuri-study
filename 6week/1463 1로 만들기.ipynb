{
 "cells": [
  {
   "cell_type": "code",
   "execution_count": 2,
   "id": "63d66471",
   "metadata": {},
   "outputs": [
    {
     "name": "stdout",
     "output_type": "stream",
     "text": [
      "10\n",
      "3\n"
     ]
    }
   ],
   "source": [
    "n = int(input())\n",
    "L1 = [0]*(n+1)\n",
    "\n",
    "for i in range(2, n+1):\n",
    "    L1[i] = L1[i-1] + 1\n",
    "    if i % 2 == 0:\n",
    "        L1[i] = min(L1[i], L1[i//2]+1)\n",
    "    if i % 3 == 0:\n",
    "        L1[i] = min(L1[i], L1[i//3] + 1)\n",
    "print(L1[n])"
   ]
  }
 ],
 "metadata": {
  "kernelspec": {
   "display_name": "Python 3",
   "language": "python",
   "name": "python3"
  },
  "language_info": {
   "codemirror_mode": {
    "name": "ipython",
    "version": 3
   },
   "file_extension": ".py",
   "mimetype": "text/x-python",
   "name": "python",
   "nbconvert_exporter": "python",
   "pygments_lexer": "ipython3",
   "version": "3.8.8"
  }
 },
 "nbformat": 4,
 "nbformat_minor": 5
}
