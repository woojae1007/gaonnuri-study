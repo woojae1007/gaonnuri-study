{
 "cells": [
  {
   "cell_type": "code",
   "execution_count": 1,
   "id": "77773bc6",
   "metadata": {},
   "outputs": [
    {
     "name": "stdout",
     "output_type": "stream",
     "text": [
      "2\n",
      "6\n",
      "3\n",
      "12\n",
      "16\n"
     ]
    }
   ],
   "source": [
    "L1 = [0 for i in range(101)]\n",
    "L1[1] = 1\n",
    "L1[2] = 1\n",
    "L1[3] = 1\n",
    "for i in range(0, 98):\n",
    "    L1[i + 3] = L1[i] + L1[i + 1]\n",
    "n = int(input())\n",
    "for i in range(n):\n",
    "    m = int(input())\n",
    "    print(L1[m])"
   ]
  }
 ],
 "metadata": {
  "kernelspec": {
   "display_name": "Python 3",
   "language": "python",
   "name": "python3"
  },
  "language_info": {
   "codemirror_mode": {
    "name": "ipython",
    "version": 3
   },
   "file_extension": ".py",
   "mimetype": "text/x-python",
   "name": "python",
   "nbconvert_exporter": "python",
   "pygments_lexer": "ipython3",
   "version": "3.8.8"
  }
 },
 "nbformat": 4,
 "nbformat_minor": 5
}
